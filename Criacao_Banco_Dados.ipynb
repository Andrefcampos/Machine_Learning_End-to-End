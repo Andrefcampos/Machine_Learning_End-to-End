{
 "cells": [
  {
   "cell_type": "code",
   "execution_count": null,
   "id": "84dea00b",
   "metadata": {},
   "outputs": [],
   "source": []
  },
  {
   "cell_type": "code",
   "execution_count": 1,
   "id": "7178571a",
   "metadata": {},
   "outputs": [],
   "source": [
    "# Lib para banco de dados\n",
    "import sqlite3"
   ]
  },
  {
   "cell_type": "code",
   "execution_count": 2,
   "id": "fc09196d",
   "metadata": {},
   "outputs": [],
   "source": [
    "# Criar o banco\n",
    "Conexao_Banco = sqlite3.connect('Banco_de_Dados_API.db')"
   ]
  },
  {
   "cell_type": "code",
   "execution_count": 3,
   "id": "fc3ebe84",
   "metadata": {},
   "outputs": [],
   "source": [
    "# Apontar para o banco\n",
    "Cursor = Conexao_Banco.cursor()"
   ]
  },
  {
   "cell_type": "code",
   "execution_count": null,
   "id": "02c4c64d",
   "metadata": {},
   "outputs": [],
   "source": [
    "# Query --> Criar uma tabela\n",
    "Query_Criar_Banco = '''\n",
    "CREATE TABLE log_API (\n",
    "    id INTEGER NOT NULL PRIMARY KEY AUTOINCREMENT,\n",
    "    Inputs TEXT,\n",
    "    Inicio TEXT,\n",
    "    Fim TEXT,\n",
    "    Processamento TEXT\n",
    ")\n",
    "'''\n",
    "# Executando a Query\n",
    "Cursor.execute(Query_Criar_Banco)"
   ]
  },
  {
   "cell_type": "code",
   "execution_count": null,
   "id": "17007174",
   "metadata": {},
   "outputs": [],
   "source": [
    "# Query --> Inserir informação\n",
    "\n",
    "Query_Inserir = '''\n",
    "    INSERT INTO Log_API (Inputs, Inicio, Fim, Processamento)\n",
    "    VALUES('480;4;5;3;0;1;0;0;742', '01/01/2000 19:00:01', '01/01/2000 19:00:02', '00:01')\n",
    "'''\n",
    "\n",
    "# Executar o Query\n",
    "Cursor.execute(Query_Inserir)\n",
    "\n",
    "# Commit\n",
    "Conexao_Banco.commit()"
   ]
  },
  {
   "cell_type": "code",
   "execution_count": 6,
   "id": "757d829e",
   "metadata": {},
   "outputs": [
    {
     "data": {
      "text/plain": [
       "[(1,\n",
       "  '480;4;5;3;0;1;0;0;742',\n",
       "  '01/01/2000 19:00:01',\n",
       "  '01/01/2000 19:00:02',\n",
       "  '00:01'),\n",
       " (2,\n",
       "  ';480.0;4.0;5.0;3.0;0.0;1.0;0.0;0.0;742.0;[8746.59813597]',\n",
       "  '2023-07-07 01:47:55.934540',\n",
       "  '2023-07-07 01:47:55.939545',\n",
       "  '0:00:00.005005'),\n",
       " (3,\n",
       "  ';550.0;4.0;5.0;3.0;0.0;1.0;0.0;0.0;742.0;[8767.84656735]',\n",
       "  '2023-07-07 01:49:59.262897',\n",
       "  '2023-07-07 01:49:59.266896',\n",
       "  '0:00:00.003999'),\n",
       " (4,\n",
       "  ';80.0;4.0;5.0;3.0;0.0;1.0;0.0;0.0;742.0;[1977.47866333]',\n",
       "  '2023-07-07 01:50:54.982527',\n",
       "  '2023-07-07 01:50:54.987473',\n",
       "  '0:00:00.004946')]"
      ]
     },
     "execution_count": 6,
     "metadata": {},
     "output_type": "execute_result"
    }
   ],
   "source": [
    "# Query --> Consulta\n",
    "Query_Consulta = '''\n",
    "SELECT * FROM Log_API\n",
    "'''\n",
    "\n",
    "#Executando a Query\n",
    "Cursor.execute(Query_Consulta).fetchall()"
   ]
  },
  {
   "cell_type": "code",
   "execution_count": null,
   "id": "9c7d189a",
   "metadata": {},
   "outputs": [],
   "source": []
  }
 ],
 "metadata": {
  "kernelspec": {
   "display_name": "Python 3 (ipykernel)",
   "language": "python",
   "name": "python3"
  },
  "language_info": {
   "codemirror_mode": {
    "name": "ipython",
    "version": 3
   },
   "file_extension": ".py",
   "mimetype": "text/x-python",
   "name": "python",
   "nbconvert_exporter": "python",
   "pygments_lexer": "ipython3",
   "version": "3.10.9"
  }
 },
 "nbformat": 4,
 "nbformat_minor": 5
}
