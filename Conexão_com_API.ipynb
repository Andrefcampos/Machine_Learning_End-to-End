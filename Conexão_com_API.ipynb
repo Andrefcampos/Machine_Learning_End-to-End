{
 "cells": [
  {
   "cell_type": "code",
   "execution_count": null,
   "id": "2c379aa2",
   "metadata": {},
   "outputs": [],
   "source": [
    "# Nosso sistema de conexão com a API"
   ]
  },
  {
   "cell_type": "code",
   "execution_count": 2,
   "id": "e033303d",
   "metadata": {},
   "outputs": [],
   "source": [
    "# Conexões\n",
    "import requests"
   ]
  },
  {
   "cell_type": "code",
   "execution_count": 5,
   "id": "dd1f7bdb",
   "metadata": {},
   "outputs": [
    {
     "data": {
      "text/plain": [
       "{'Valor_Aluguel': '[1977.47866333]'}"
      ]
     },
     "execution_count": 5,
     "metadata": {},
     "output_type": "execute_result"
    }
   ],
   "source": [
    "# Local do URL\n",
    "Url = 'http://127.0.0.1:5000/API_Preditivo/80;4;5;3;0;1;0;0;742'\n",
    "\n",
    "# Acessar a Conexão\n",
    "Consulta = requests.get(Url)\n",
    "\n",
    "# Buscar a info\n",
    "Resposta = Consulta.json()\n",
    "\n",
    "# Devolução\n",
    "Resposta"
   ]
  },
  {
   "cell_type": "code",
   "execution_count": null,
   "id": "23c81579",
   "metadata": {},
   "outputs": [],
   "source": [
    "# Tempo, Inputs --> Salvar --> Vendendo (qtd, inputs)\n"
   ]
  }
 ],
 "metadata": {
  "kernelspec": {
   "display_name": "Python 3 (ipykernel)",
   "language": "python",
   "name": "python3"
  },
  "language_info": {
   "codemirror_mode": {
    "name": "ipython",
    "version": 3
   },
   "file_extension": ".py",
   "mimetype": "text/x-python",
   "name": "python",
   "nbconvert_exporter": "python",
   "pygments_lexer": "ipython3",
   "version": "3.10.9"
  }
 },
 "nbformat": 4,
 "nbformat_minor": 5
}
